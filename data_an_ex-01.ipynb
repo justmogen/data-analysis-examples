{
 "cells": [
  {
   "cell_type": "markdown",
   "id": "222b79df-382f-457b-8360-c3d02a24198f",
   "metadata": {},
   "source": [
    "# Data Analysis Examples "
   ]
  },
  {
   "cell_type": "markdown",
   "id": "0de39ee7-b9a4-4a9d-ac54-da686219a184",
   "metadata": {},
   "source": [
    "## Bitly Data from 1.USA.gov"
   ]
  },
  {
   "cell_type": "markdown",
   "id": "61f3cb5e-d2ec-49e6-b977-d14322428c80",
   "metadata": {},
   "source": [
    "In 2011, the URL shortening service *Bitly* partnered with the US government website USA.gov to provide a feed of anonymous data gathered from users who shorten links ending with .gov or .mil. In 2011, a live feed as well as hourly snapshots were available as downloadable text files. "
   ]
  },
  {
   "cell_type": "markdown",
   "id": "9109bff5-4d6c-406f-b78d-4efe0696ca30",
   "metadata": {},
   "source": [
    "In the case of the hourly snapshots, each line in each file contains a common form of web data known as JSON"
   ]
  },
  {
   "cell_type": "code",
   "execution_count": 1,
   "id": "a5fb02aa-2080-4f46-bf47-85bdcaeceed4",
   "metadata": {},
   "outputs": [],
   "source": [
    "path = \"pydata-book/datasets/bitly_usagov/example.txt\""
   ]
  },
  {
   "cell_type": "code",
   "execution_count": 2,
   "id": "f4017c2f-2799-4264-ae20-fd8bd622f98d",
   "metadata": {},
   "outputs": [],
   "source": [
    "import json\n",
    "with open(path) as f:\n",
    "    #print(f.readline()) - each line is in the form of JSON data\n",
    "    records = [json.loads(line) for line in f] "
   ]
  },
  {
   "cell_type": "code",
   "execution_count": 3,
   "id": "64482baa-d5bf-4c4a-8ec9-99464cdd9382",
   "metadata": {},
   "outputs": [
    {
     "data": {
      "text/plain": [
       "{'a': 'Mozilla/5.0 (Windows NT 6.1; WOW64) AppleWebKit/535.11 (KHTML, like Gecko) Chrome/17.0.963.78 Safari/535.11',\n",
       " 'c': 'US',\n",
       " 'nk': 1,\n",
       " 'tz': 'America/New_York',\n",
       " 'gr': 'MA',\n",
       " 'g': 'A6qOVH',\n",
       " 'h': 'wfLQtf',\n",
       " 'l': 'orofrog',\n",
       " 'al': 'en-US,en;q=0.8',\n",
       " 'hh': '1.usa.gov',\n",
       " 'r': 'http://www.facebook.com/l/7AQEFzjSi/1.usa.gov/wfLQtf',\n",
       " 'u': 'http://www.ncbi.nlm.nih.gov/pubmed/22415991',\n",
       " 't': 1331923247,\n",
       " 'hc': 1331822918,\n",
       " 'cy': 'Danvers',\n",
       " 'll': [42.576698, -70.954903]}"
      ]
     },
     "execution_count": 3,
     "metadata": {},
     "output_type": "execute_result"
    }
   ],
   "source": [
    "records[0] # list of python dictionary"
   ]
  },
  {
   "cell_type": "markdown",
   "id": "ad7c7c97-953b-43fb-817c-93a4fa5ebe44",
   "metadata": {},
   "source": [
    "## Counting Time Zones in Pure Python"
   ]
  },
  {
   "cell_type": "markdown",
   "id": "7300e9e4-984a-402c-92c5-f59931e92687",
   "metadata": {},
   "source": [
    "Suppose we were interested in finding the time zones that occur most often in the dataset (the tz field). "
   ]
  },
  {
   "cell_type": "code",
   "execution_count": 4,
   "id": "d1c9f5f3-39fb-4f59-be9f-c05c8907ca3d",
   "metadata": {},
   "outputs": [],
   "source": [
    "# time_zones = [rec[\"tz\"] for rec in records]"
   ]
  },
  {
   "cell_type": "markdown",
   "id": "1d445b9e-8240-4d6f-bec3-525c8d16ddde",
   "metadata": {},
   "source": [
    "Oops! Turns out that not all of the records have a time zone field. We can handle this by adding the check if \"tz\" in rec at the end of the list comprehension:"
   ]
  },
  {
   "cell_type": "code",
   "execution_count": 5,
   "id": "9fd26eb0-72f4-43bd-b042-446864f1f7dc",
   "metadata": {},
   "outputs": [
    {
     "data": {
      "text/plain": [
       "['America/New_York',\n",
       " 'America/Denver',\n",
       " 'America/New_York',\n",
       " 'America/Sao_Paulo',\n",
       " 'America/New_York',\n",
       " 'America/New_York',\n",
       " 'Europe/Warsaw',\n",
       " '',\n",
       " '',\n",
       " '']"
      ]
     },
     "execution_count": 5,
     "metadata": {},
     "output_type": "execute_result"
    }
   ],
   "source": [
    "time_zones = [rec[\"tz\"] for rec in records if \"tz\" in rec]\n",
    "\n",
    "time_zones[:10]"
   ]
  },
  {
   "cell_type": "markdown",
   "id": "8f0e7121-ff48-4d6b-a72a-f2cf6e8a3db6",
   "metadata": {},
   "source": [
    "Next, to produce counts by time zone, I’ll show two approaches: a harder way (using just the Python standard library) and a simpler way (using pandas). One way to do the counting is to use a dictionary to store counts while we iterate through the time zones:"
   ]
  },
  {
   "cell_type": "code",
   "execution_count": 6,
   "id": "8e96986e-4e5e-4326-877d-f8964aef8cdd",
   "metadata": {},
   "outputs": [],
   "source": [
    "def get_counts(seq):\n",
    "    counts = {}\n",
    "    for x in seq:\n",
    "        if x in counts:\n",
    "            counts[x] += 1\n",
    "        else:\n",
    "            counts[x] = 1\n",
    "    return counts"
   ]
  },
  {
   "cell_type": "markdown",
   "id": "33ec130c-16a9-4a4b-927f-28eb9906d423",
   "metadata": {},
   "source": [
    "Using more advanced tools in the Python standard library, you can write the same thing more briefly:"
   ]
  },
  {
   "cell_type": "code",
   "execution_count": 7,
   "id": "c200220d-7981-4d6a-a028-e137337aa547",
   "metadata": {},
   "outputs": [],
   "source": [
    "from collections import defaultdict\n",
    "\n",
    "def get_counts2(seq):\n",
    "    counts = defaultdict(int) # values are initialized to 0\n",
    "    for x in seq:\n",
    "        counts[x] += 1\n",
    "    return counts"
   ]
  },
  {
   "cell_type": "code",
   "execution_count": 8,
   "id": "81de1bbc-88a2-4a97-99a5-1b25ddbb582d",
   "metadata": {},
   "outputs": [
    {
     "data": {
      "text/plain": [
       "1251"
      ]
     },
     "execution_count": 8,
     "metadata": {},
     "output_type": "execute_result"
    }
   ],
   "source": [
    "# To use it on the time zones, just pass the time_zones list:\n",
    "\n",
    "counts = get_counts(time_zones)\n",
    "counts[\"America/New_York\"]"
   ]
  },
  {
   "cell_type": "code",
   "execution_count": 9,
   "id": "27486bb3-8ca6-43f9-b0f9-ac415be3d1c1",
   "metadata": {},
   "outputs": [
    {
     "data": {
      "text/plain": [
       "3440"
      ]
     },
     "execution_count": 9,
     "metadata": {},
     "output_type": "execute_result"
    }
   ],
   "source": [
    "len(time_zones)"
   ]
  },
  {
   "cell_type": "markdown",
   "id": "6f21974b-d01e-4cd9-acd0-fc2e8e42d28b",
   "metadata": {},
   "source": [
    "If we wanted the top 10 time zones and their counts, we can make a list of tuples by (count, timezone) and sort it:"
   ]
  },
  {
   "cell_type": "code",
   "execution_count": 10,
   "id": "2f155a5a-c89c-449d-9bdf-08f4dde14293",
   "metadata": {},
   "outputs": [],
   "source": [
    "def top_counts(count_dict, n=10):\n",
    "    value_key = [(count, tz) for tz, count in count_dict.items()]\n",
    "    value_key.sort()\n",
    "    return value_key[-n:]"
   ]
  },
  {
   "cell_type": "code",
   "execution_count": 11,
   "id": "477b4b41-225e-4b5f-be25-517f5158825a",
   "metadata": {},
   "outputs": [
    {
     "data": {
      "text/plain": [
       "[(33, 'America/Sao_Paulo'),\n",
       " (35, 'Europe/Madrid'),\n",
       " (36, 'Pacific/Honolulu'),\n",
       " (37, 'Asia/Tokyo'),\n",
       " (74, 'Europe/London'),\n",
       " (191, 'America/Denver'),\n",
       " (382, 'America/Los_Angeles'),\n",
       " (400, 'America/Chicago'),\n",
       " (521, ''),\n",
       " (1251, 'America/New_York')]"
      ]
     },
     "execution_count": 11,
     "metadata": {},
     "output_type": "execute_result"
    }
   ],
   "source": [
    "top_counts(counts)"
   ]
  },
  {
   "cell_type": "code",
   "execution_count": 12,
   "id": "2daa7ce1-28af-48be-aa7e-6a8f9006357c",
   "metadata": {},
   "outputs": [
    {
     "data": {
      "text/plain": [
       "[('America/New_York', 1251),\n",
       " ('', 521),\n",
       " ('America/Chicago', 400),\n",
       " ('America/Los_Angeles', 382),\n",
       " ('America/Denver', 191),\n",
       " ('Europe/London', 74),\n",
       " ('Asia/Tokyo', 37),\n",
       " ('Pacific/Honolulu', 36),\n",
       " ('Europe/Madrid', 35),\n",
       " ('America/Sao_Paulo', 33)]"
      ]
     },
     "execution_count": 12,
     "metadata": {},
     "output_type": "execute_result"
    }
   ],
   "source": [
    "from collections import Counter\n",
    "\n",
    "counts = Counter(time_zones)\n",
    "counts.most_common(10)"
   ]
  },
  {
   "cell_type": "markdown",
   "id": "9c322ea0-f2f7-493d-a04c-a618622b8c75",
   "metadata": {},
   "source": [
    "## Counting Time Zones with pandas"
   ]
  },
  {
   "cell_type": "markdown",
   "id": "45bc5c3b-5b7b-43be-a4d9-fe73072c60f1",
   "metadata": {},
   "source": [
    "Create a DataFrame from the original set of records by passing the list of records to pandas.DataFrame:"
   ]
  },
  {
   "cell_type": "code",
   "execution_count": 13,
   "id": "ba567a3c-d9dc-45c1-8f8a-4f5a68f918fb",
   "metadata": {},
   "outputs": [],
   "source": [
    "import pandas as pd\n",
    "\n",
    "frame = pd.DataFrame(records)"
   ]
  },
  {
   "cell_type": "markdown",
   "id": "1e4411a7-b5be-4077-bc7e-31eb661ec403",
   "metadata": {},
   "source": [
    "We can look at some basic information about this new DataFrame, such as column names, inferred column types, or number of missing values, using frame.info():"
   ]
  },
  {
   "cell_type": "code",
   "execution_count": 14,
   "id": "b6d68aa4-cca9-4a22-aa31-3b66b001079c",
   "metadata": {},
   "outputs": [
    {
     "name": "stdout",
     "output_type": "stream",
     "text": [
      "<class 'pandas.core.frame.DataFrame'>\n",
      "RangeIndex: 3560 entries, 0 to 3559\n",
      "Data columns (total 18 columns):\n",
      " #   Column       Non-Null Count  Dtype  \n",
      "---  ------       --------------  -----  \n",
      " 0   a            3440 non-null   object \n",
      " 1   c            2919 non-null   object \n",
      " 2   nk           3440 non-null   float64\n",
      " 3   tz           3440 non-null   object \n",
      " 4   gr           2919 non-null   object \n",
      " 5   g            3440 non-null   object \n",
      " 6   h            3440 non-null   object \n",
      " 7   l            3440 non-null   object \n",
      " 8   al           3094 non-null   object \n",
      " 9   hh           3440 non-null   object \n",
      " 10  r            3440 non-null   object \n",
      " 11  u            3440 non-null   object \n",
      " 12  t            3440 non-null   float64\n",
      " 13  hc           3440 non-null   float64\n",
      " 14  cy           2919 non-null   object \n",
      " 15  ll           2919 non-null   object \n",
      " 16  _heartbeat_  120 non-null    float64\n",
      " 17  kw           93 non-null     object \n",
      "dtypes: float64(4), object(14)\n",
      "memory usage: 500.8+ KB\n"
     ]
    }
   ],
   "source": [
    "frame.info()"
   ]
  },
  {
   "cell_type": "code",
   "execution_count": 15,
   "id": "95cd366d-ec6d-4ba6-8240-e81c8de3972f",
   "metadata": {},
   "outputs": [
    {
     "data": {
      "text/plain": [
       "<bound method Series.count of 0          America/New_York\n",
       "1            America/Denver\n",
       "2          America/New_York\n",
       "3         America/Sao_Paulo\n",
       "4          America/New_York\n",
       "               ...         \n",
       "3555       America/New_York\n",
       "3556        America/Chicago\n",
       "3557         America/Denver\n",
       "3558    America/Los_Angeles\n",
       "3559       America/New_York\n",
       "Name: tz, Length: 3560, dtype: object>"
      ]
     },
     "execution_count": 15,
     "metadata": {},
     "output_type": "execute_result"
    }
   ],
   "source": [
    "frame[\"tz\"].count"
   ]
  },
  {
   "cell_type": "code",
   "execution_count": 16,
   "id": "fa52f58a-04c3-4a82-80d5-85878fe410bf",
   "metadata": {},
   "outputs": [
    {
     "data": {
      "text/plain": [
       "tz\n",
       "America/New_York       1251\n",
       "                        521\n",
       "America/Chicago         400\n",
       "America/Los_Angeles     382\n",
       "America/Denver          191\n",
       "Name: count, dtype: int64"
      ]
     },
     "execution_count": 16,
     "metadata": {},
     "output_type": "execute_result"
    }
   ],
   "source": [
    "tz_counts = frame[\"tz\"].value_counts()\n",
    "\n",
    "tz_counts.head()"
   ]
  },
  {
   "cell_type": "markdown",
   "id": "e85d7be5-ae39-4267-8c23-65aa857d8c63",
   "metadata": {},
   "source": [
    "We can visualize this data using matplotlib. We can make the plots a bit nicer by filling in a substitute value for unknown or missing time zone data in the records. We replace the missing values with the fillna method and use Boolean array indexing for the empty strings:"
   ]
  },
  {
   "cell_type": "code",
   "execution_count": 17,
   "id": "4318131c-2772-45d0-8f05-64bbd2f2b00c",
   "metadata": {},
   "outputs": [
    {
     "data": {
      "text/plain": [
       "tz\n",
       "America/New_York       1251\n",
       "Unknown                 521\n",
       "America/Chicago         400\n",
       "America/Los_Angeles     382\n",
       "America/Denver          191\n",
       "Name: count, dtype: int64"
      ]
     },
     "execution_count": 17,
     "metadata": {},
     "output_type": "execute_result"
    }
   ],
   "source": [
    "clean_tz = frame[\"tz\"].fillna(\"Missing\")\n",
    "\n",
    "clean_tz[clean_tz == \"\"] = \"Unknown\"\n",
    "\n",
    "tz_counts = clean_tz.value_counts()\n",
    "\n",
    "tz_counts.head()"
   ]
  },
  {
   "cell_type": "markdown",
   "id": "16bb0a42-4764-48ec-9bcd-49d465fc7125",
   "metadata": {},
   "source": [
    "At this point, we can use the seaborn package to make a horizontal bar plot (see Top time zones in the 1.usa.gov sample data for the resulting visualization):"
   ]
  },
  {
   "cell_type": "code",
   "execution_count": 18,
   "id": "4573aa72-882a-44f8-8051-132f3fb0a848",
   "metadata": {},
   "outputs": [
    {
     "data": {
      "text/plain": [
       "<Axes: ylabel='tz'>"
      ]
     },
     "execution_count": 18,
     "metadata": {},
     "output_type": "execute_result"
    },
    {
     "data": {
      "image/png": "[encoded data removed]",
      "text/plain": [
       "<Figure size 640x480 with 1 Axes>"
      ]
     },
     "metadata": {},
     "output_type": "display_data"
    }
   ],
   "source": [
    "import seaborn as sns\n",
    "\n",
    "subset = tz_counts.head()\n",
    "\n",
    "sns.barplot(y=subset.index, x=subset.to_numpy())"
   ]
  },
  {
   "cell_type": "markdown",
   "id": "2049efc0-9808-4333-95e2-6b7542da3af2",
   "metadata": {},
   "source": [
    "The *a* field contains information about the browser, device, or application used to perform the URL shortening:"
   ]
  },
  {
   "cell_type": "code",
   "execution_count": 19,
   "id": "9225bee5-a1c9-439d-8f0d-c812895ad964",
   "metadata": {},
   "outputs": [
    {
     "data": {
      "text/plain": [
       "'Mozilla/5.0 (Macintosh; Intel Mac OS X 10_6_8) AppleWebKit/534.52.7 (KHTML, like Gecko) Version/5.1.2 Safari/534.52.7'"
      ]
     },
     "execution_count": 19,
     "metadata": {},
     "output_type": "execute_result"
    }
   ],
   "source": [
    "frame[\"a\"][3]"
   ]
  },
  {
   "cell_type": "code",
   "execution_count": 20,
   "id": "a6863006-d4d8-4ffa-8e56-a20a1b38d867",
   "metadata": {},
   "outputs": [
    {
     "data": {
      "text/plain": [
       "'BlackBerry8520/5.0.0.592 Profile/MIDP-2.1 Configur'"
      ]
     },
     "execution_count": 20,
     "metadata": {},
     "output_type": "execute_result"
    }
   ],
   "source": [
    "frame[\"a\"][46][:50] # size of line to be printed"
   ]
  },
  {
   "cell_type": "markdown",
   "id": "aeaeba17-9586-4565-bf83-a13034c339e3",
   "metadata": {},
   "source": [
    "One possible strategy is to split off the first token in the string (corresponding roughly to the browser capability) and make another summary of the user behavior:"
   ]
  },
  {
   "cell_type": "code",
   "execution_count": 21,
   "id": "7b0637ad-4c45-47ca-92b1-bf76b8eb474c",
   "metadata": {},
   "outputs": [
    {
     "data": {
      "text/plain": [
       "0               Mozilla/5.0\n",
       "1    GoogleMaps/RochesterNY\n",
       "2               Mozilla/4.0\n",
       "3               Mozilla/5.0\n",
       "4               Mozilla/5.0\n",
       "dtype: object"
      ]
     },
     "execution_count": 21,
     "metadata": {},
     "output_type": "execute_result"
    }
   ],
   "source": [
    "results = pd.Series([x.split()[0] for x in frame[\"a\"].dropna()])\n",
    "results.head(5)"
   ]
  },
  {
   "cell_type": "code",
   "execution_count": 22,
   "id": "95e722f1-2d9b-432c-bcf2-95fb1e34c57d",
   "metadata": {},
   "outputs": [
    {
     "data": {
      "text/plain": [
       "Mozilla/5.0                 2594\n",
       "Mozilla/4.0                  601\n",
       "GoogleMaps/RochesterNY       121\n",
       "Opera/9.80                    34\n",
       "TEST_INTERNET_AGENT           24\n",
       "GoogleProducer                21\n",
       "Mozilla/6.0                    5\n",
       "BlackBerry8520/5.0.0.681       4\n",
       "Name: count, dtype: int64"
      ]
     },
     "execution_count": 22,
     "metadata": {},
     "output_type": "execute_result"
    }
   ],
   "source": [
    "results.value_counts().head(8)"
   ]
  },
  {
   "cell_type": "markdown",
   "id": "a6fe68c1-0656-46f3-a85f-5b928789adfa",
   "metadata": {},
   "source": [
    "Now, suppose you wanted to decompose the top time zones into Windows and non-Windows users. As a simplification, let’s say that a user is on Windows if the string \"Windows\" is in the agent string. Since some of the agents are missing, we’ll exclude these from the data:"
   ]
  },
  {
   "cell_type": "code",
   "execution_count": 23,
   "id": "95ef048a-dd61-4784-a9a9-e6c421a83151",
   "metadata": {},
   "outputs": [],
   "source": [
    "import numpy as np"
   ]
  },
  {
   "cell_type": "code",
   "execution_count": 24,
   "id": "5011ac51-e256-4662-8b57-ea0d96841327",
   "metadata": {},
   "outputs": [],
   "source": [
    "cframe = frame[frame[\"a\"].notna()].copy()\n",
    "\n",
    "cframe[\"os\"] = np.where(cframe[\"a\"].str.contains(\"Windows\"), \"Windows\",\n",
    "\"Not Windows\")"
   ]
  },
  {
   "cell_type": "code",
   "execution_count": 25,
   "id": "a241585e-b29b-499b-8dc5-82d85439b997",
   "metadata": {},
   "outputs": [
    {
     "data": {
      "text/plain": [
       "0        Windows\n",
       "1    Not Windows\n",
       "2        Windows\n",
       "3    Not Windows\n",
       "4        Windows\n",
       "5        Windows\n",
       "6        Windows\n",
       "Name: os, dtype: object"
      ]
     },
     "execution_count": 25,
     "metadata": {},
     "output_type": "execute_result"
    }
   ],
   "source": [
    "cframe[\"os\"].head(7)"
   ]
  },
  {
   "cell_type": "markdown",
   "id": "17e1c00b-f544-43f8-8dcf-d1f619ce2c60",
   "metadata": {},
   "source": [
    "Then, you can group the data by its time zone column and this new list of operating systems:"
   ]
  },
  {
   "cell_type": "code",
   "execution_count": 26,
   "id": "bad81f04-63ee-4bd5-bb92-4e701b950208",
   "metadata": {},
   "outputs": [],
   "source": [
    "by_tz_os = cframe.groupby([\"tz\", \"os\"])"
   ]
  },
  {
   "cell_type": "markdown",
   "id": "85542bf2-1ee9-442a-8ba7-6ad9d1d99af3",
   "metadata": {},
   "source": [
    "The group counts, analogous to the value_counts function, can be computed with size. This result is then reshaped into a table with unstack:"
   ]
  },
  {
   "cell_type": "code",
   "execution_count": 27,
   "id": "840bdcdf-f72d-4291-9ac1-213af65e545e",
   "metadata": {},
   "outputs": [
    {
     "data": {
      "text/html": [
       "<div>\n",
       "<style scoped>\n",
       "    .dataframe tbody tr th:only-of-type {\n",
       "        vertical-align: middle;\n",
       "    }\n",
       "\n",
       "    .dataframe tbody tr th {\n",
       "        vertical-align: top;\n",
       "    }\n",
       "\n",
       "    .dataframe thead th {\n",
       "        text-align: right;\n",
       "    }\n",
       "</style>\n",
       "<table border=\"1\" class=\"dataframe\">\n",
       "  <thead>\n",
       "    <tr style=\"text-align: right;\">\n",
       "      <th>os</th>\n",
       "      <th>Not Windows</th>\n",
       "      <th>Windows</th>\n",
       "    </tr>\n",
       "    <tr>\n",
       "      <th>tz</th>\n",
       "      <th></th>\n",
       "      <th></th>\n",
       "    </tr>\n",
       "  </thead>\n",
       "  <tbody>\n",
       "    <tr>\n",
       "      <th></th>\n",
       "      <td>245.0</td>\n",
       "      <td>276.0</td>\n",
       "    </tr>\n",
       "    <tr>\n",
       "      <th>Africa/Cairo</th>\n",
       "      <td>0.0</td>\n",
       "      <td>3.0</td>\n",
       "    </tr>\n",
       "    <tr>\n",
       "      <th>Africa/Casablanca</th>\n",
       "      <td>0.0</td>\n",
       "      <td>1.0</td>\n",
       "    </tr>\n",
       "    <tr>\n",
       "      <th>Africa/Ceuta</th>\n",
       "      <td>0.0</td>\n",
       "      <td>2.0</td>\n",
       "    </tr>\n",
       "    <tr>\n",
       "      <th>Africa/Johannesburg</th>\n",
       "      <td>0.0</td>\n",
       "      <td>1.0</td>\n",
       "    </tr>\n",
       "  </tbody>\n",
       "</table>\n",
       "</div>"
      ],
      "text/plain": [
       "os                   Not Windows  Windows\n",
       "tz                                       \n",
       "                           245.0    276.0\n",
       "Africa/Cairo                 0.0      3.0\n",
       "Africa/Casablanca            0.0      1.0\n",
       "Africa/Ceuta                 0.0      2.0\n",
       "Africa/Johannesburg          0.0      1.0"
      ]
     },
     "execution_count": 27,
     "metadata": {},
     "output_type": "execute_result"
    }
   ],
   "source": [
    "agg_counts = by_tz_os.size().unstack().fillna(0)\n",
    "\n",
    "agg_counts.head()"
   ]
  },
  {
   "cell_type": "markdown",
   "id": "fa477ea6-1b93-45e6-a3f8-8ea18bd37302",
   "metadata": {},
   "source": [
    "Finally, let’s select the top overall time zones. To do so, I construct an indirect index array from the column counts in **agg_counts**. After computing the column counts with agg_counts.sum(\"columns\"), I can call **argsort()** to obtain an index array that can be used to sort in ascending order:"
   ]
  },
  {
   "cell_type": "code",
   "execution_count": 28,
   "id": "12df5cfe-e5f7-48d9-89c7-e6c3e0b05ab3",
   "metadata": {},
   "outputs": [
    {
     "data": {
      "text/plain": [
       "array([24, 20, 21, 92, 87, 53, 54, 57, 26, 55])"
      ]
     },
     "execution_count": 28,
     "metadata": {},
     "output_type": "execute_result"
    }
   ],
   "source": [
    "indexer = agg_counts.sum(\"columns\").argsort()\n",
    "indexer.values[:10]"
   ]
  },
  {
   "cell_type": "markdown",
   "id": "fd926c00-0fa0-424d-ae0a-210f33cf60b0",
   "metadata": {},
   "source": [
    "I use **take** to select the rows in that order, then slice off the last 10 rows (largest values):"
   ]
  },
  {
   "cell_type": "code",
   "execution_count": 29,
   "id": "2cef19da-85d5-45ec-b7ed-9e0b0f470626",
   "metadata": {},
   "outputs": [
    {
     "data": {
      "text/html": [
       "<div>\n",
       "<style scoped>\n",
       "    .dataframe tbody tr th:only-of-type {\n",
       "        vertical-align: middle;\n",
       "    }\n",
       "\n",
       "    .dataframe tbody tr th {\n",
       "        vertical-align: top;\n",
       "    }\n",
       "\n",
       "    .dataframe thead th {\n",
       "        text-align: right;\n",
       "    }\n",
       "</style>\n",
       "<table border=\"1\" class=\"dataframe\">\n",
       "  <thead>\n",
       "    <tr style=\"text-align: right;\">\n",
       "      <th>os</th>\n",
       "      <th>Not Windows</th>\n",
       "      <th>Windows</th>\n",
       "    </tr>\n",
       "    <tr>\n",
       "      <th>tz</th>\n",
       "      <th></th>\n",
       "      <th></th>\n",
       "    </tr>\n",
       "  </thead>\n",
       "  <tbody>\n",
       "    <tr>\n",
       "      <th>America/Sao_Paulo</th>\n",
       "      <td>13.0</td>\n",
       "      <td>20.0</td>\n",
       "    </tr>\n",
       "    <tr>\n",
       "      <th>Europe/Madrid</th>\n",
       "      <td>16.0</td>\n",
       "      <td>19.0</td>\n",
       "    </tr>\n",
       "    <tr>\n",
       "      <th>Pacific/Honolulu</th>\n",
       "      <td>0.0</td>\n",
       "      <td>36.0</td>\n",
       "    </tr>\n",
       "    <tr>\n",
       "      <th>Asia/Tokyo</th>\n",
       "      <td>2.0</td>\n",
       "      <td>35.0</td>\n",
       "    </tr>\n",
       "    <tr>\n",
       "      <th>Europe/London</th>\n",
       "      <td>43.0</td>\n",
       "      <td>31.0</td>\n",
       "    </tr>\n",
       "    <tr>\n",
       "      <th>America/Denver</th>\n",
       "      <td>132.0</td>\n",
       "      <td>59.0</td>\n",
       "    </tr>\n",
       "    <tr>\n",
       "      <th>America/Los_Angeles</th>\n",
       "      <td>130.0</td>\n",
       "      <td>252.0</td>\n",
       "    </tr>\n",
       "    <tr>\n",
       "      <th>America/Chicago</th>\n",
       "      <td>115.0</td>\n",
       "      <td>285.0</td>\n",
       "    </tr>\n",
       "    <tr>\n",
       "      <th></th>\n",
       "      <td>245.0</td>\n",
       "      <td>276.0</td>\n",
       "    </tr>\n",
       "    <tr>\n",
       "      <th>America/New_York</th>\n",
       "      <td>339.0</td>\n",
       "      <td>912.0</td>\n",
       "    </tr>\n",
       "  </tbody>\n",
       "</table>\n",
       "</div>"
      ],
      "text/plain": [
       "os                   Not Windows  Windows\n",
       "tz                                       \n",
       "America/Sao_Paulo           13.0     20.0\n",
       "Europe/Madrid               16.0     19.0\n",
       "Pacific/Honolulu             0.0     36.0\n",
       "Asia/Tokyo                   2.0     35.0\n",
       "Europe/London               43.0     31.0\n",
       "America/Denver             132.0     59.0\n",
       "America/Los_Angeles        130.0    252.0\n",
       "America/Chicago            115.0    285.0\n",
       "                           245.0    276.0\n",
       "America/New_York           339.0    912.0"
      ]
     },
     "execution_count": 29,
     "metadata": {},
     "output_type": "execute_result"
    }
   ],
   "source": [
    "count_subset = agg_counts.take(indexer[-10:])\n",
    "count_subset"
   ]
  },
  {
   "cell_type": "markdown",
   "id": "090ac22c-6947-41af-957e-d3482ed5390b",
   "metadata": {},
   "source": [
    "pandas has a convenience method called nlargest that does the same thing:"
   ]
  },
  {
   "cell_type": "code",
   "execution_count": 30,
   "id": "da45fff2-7f9b-4674-9905-b64dfc0aff98",
   "metadata": {},
   "outputs": [
    {
     "data": {
      "text/plain": [
       "tz\n",
       "America/New_York       1251.0\n",
       "                        521.0\n",
       "America/Chicago         400.0\n",
       "America/Los_Angeles     382.0\n",
       "America/Denver          191.0\n",
       "Europe/London            74.0\n",
       "Asia/Tokyo               37.0\n",
       "Pacific/Honolulu         36.0\n",
       "Europe/Madrid            35.0\n",
       "America/Sao_Paulo        33.0\n",
       "dtype: float64"
      ]
     },
     "execution_count": 30,
     "metadata": {},
     "output_type": "execute_result"
    }
   ],
   "source": [
    "agg_counts.sum(axis=\"columns\").nlargest(10)"
   ]
  },
  {
   "cell_type": "markdown",
   "id": "2b069f5c-1514-4971-8fe5-886dde889e21",
   "metadata": {},
   "source": [
    "Then, this can be plotted in a grouped bar plot comparing the number of Windows and non-Windows users, using seaborn's barplot function.\n",
    "I first call `count_subset.stack()` and reset the index to rearrange the data for better compatibility with seaborn:"
   ]
  },
  {
   "cell_type": "code",
   "execution_count": 31,
   "id": "612c13c0-f6cc-49ad-a971-e5035764b7fd",
   "metadata": {},
   "outputs": [
    {
     "data": {
      "text/html": [
       "<div>\n",
       "<style scoped>\n",
       "    .dataframe tbody tr th:only-of-type {\n",
       "        vertical-align: middle;\n",
       "    }\n",
       "\n",
       "    .dataframe tbody tr th {\n",
       "        vertical-align: top;\n",
       "    }\n",
       "\n",
       "    .dataframe thead th {\n",
       "        text-align: right;\n",
       "    }\n",
       "</style>\n",
       "<table border=\"1\" class=\"dataframe\">\n",
       "  <thead>\n",
       "    <tr style=\"text-align: right;\">\n",
       "      <th></th>\n",
       "      <th>tz</th>\n",
       "      <th>os</th>\n",
       "      <th>total</th>\n",
       "    </tr>\n",
       "  </thead>\n",
       "  <tbody>\n",
       "    <tr>\n",
       "      <th>0</th>\n",
       "      <td>America/Sao_Paulo</td>\n",
       "      <td>Not Windows</td>\n",
       "      <td>13.0</td>\n",
       "    </tr>\n",
       "    <tr>\n",
       "      <th>1</th>\n",
       "      <td>America/Sao_Paulo</td>\n",
       "      <td>Windows</td>\n",
       "      <td>20.0</td>\n",
       "    </tr>\n",
       "    <tr>\n",
       "      <th>2</th>\n",
       "      <td>Europe/Madrid</td>\n",
       "      <td>Not Windows</td>\n",
       "      <td>16.0</td>\n",
       "    </tr>\n",
       "    <tr>\n",
       "      <th>3</th>\n",
       "      <td>Europe/Madrid</td>\n",
       "      <td>Windows</td>\n",
       "      <td>19.0</td>\n",
       "    </tr>\n",
       "    <tr>\n",
       "      <th>4</th>\n",
       "      <td>Pacific/Honolulu</td>\n",
       "      <td>Not Windows</td>\n",
       "      <td>0.0</td>\n",
       "    </tr>\n",
       "    <tr>\n",
       "      <th>5</th>\n",
       "      <td>Pacific/Honolulu</td>\n",
       "      <td>Windows</td>\n",
       "      <td>36.0</td>\n",
       "    </tr>\n",
       "    <tr>\n",
       "      <th>6</th>\n",
       "      <td>Asia/Tokyo</td>\n",
       "      <td>Not Windows</td>\n",
       "      <td>2.0</td>\n",
       "    </tr>\n",
       "    <tr>\n",
       "      <th>7</th>\n",
       "      <td>Asia/Tokyo</td>\n",
       "      <td>Windows</td>\n",
       "      <td>35.0</td>\n",
       "    </tr>\n",
       "    <tr>\n",
       "      <th>8</th>\n",
       "      <td>Europe/London</td>\n",
       "      <td>Not Windows</td>\n",
       "      <td>43.0</td>\n",
       "    </tr>\n",
       "    <tr>\n",
       "      <th>9</th>\n",
       "      <td>Europe/London</td>\n",
       "      <td>Windows</td>\n",
       "      <td>31.0</td>\n",
       "    </tr>\n",
       "    <tr>\n",
       "      <th>10</th>\n",
       "      <td>America/Denver</td>\n",
       "      <td>Not Windows</td>\n",
       "      <td>132.0</td>\n",
       "    </tr>\n",
       "    <tr>\n",
       "      <th>11</th>\n",
       "      <td>America/Denver</td>\n",
       "      <td>Windows</td>\n",
       "      <td>59.0</td>\n",
       "    </tr>\n",
       "    <tr>\n",
       "      <th>12</th>\n",
       "      <td>America/Los_Angeles</td>\n",
       "      <td>Not Windows</td>\n",
       "      <td>130.0</td>\n",
       "    </tr>\n",
       "  </tbody>\n",
       "</table>\n",
       "</div>"
      ],
      "text/plain": [
       "                     tz           os  total\n",
       "0     America/Sao_Paulo  Not Windows   13.0\n",
       "1     America/Sao_Paulo      Windows   20.0\n",
       "2         Europe/Madrid  Not Windows   16.0\n",
       "3         Europe/Madrid      Windows   19.0\n",
       "4      Pacific/Honolulu  Not Windows    0.0\n",
       "5      Pacific/Honolulu      Windows   36.0\n",
       "6            Asia/Tokyo  Not Windows    2.0\n",
       "7            Asia/Tokyo      Windows   35.0\n",
       "8         Europe/London  Not Windows   43.0\n",
       "9         Europe/London      Windows   31.0\n",
       "10       America/Denver  Not Windows  132.0\n",
       "11       America/Denver      Windows   59.0\n",
       "12  America/Los_Angeles  Not Windows  130.0"
      ]
     },
     "execution_count": 31,
     "metadata": {},
     "output_type": "execute_result"
    }
   ],
   "source": [
    "count_subset = count_subset.stack()\n",
    "\n",
    "count_subset.name = \"total\"\n",
    "\n",
    "count_subset = count_subset.reset_index()\n",
    "\n",
    "count_subset.head(13)"
   ]
  },
  {
   "cell_type": "code",
   "execution_count": 32,
   "id": "74556553-2596-47ce-9596-f917add619e4",
   "metadata": {},
   "outputs": [
    {
     "data": {
      "text/plain": [
       "<Axes: xlabel='total', ylabel='tz'>"
      ]
     },
     "execution_count": 32,
     "metadata": {},
     "output_type": "execute_result"
    },
    {
     "data": {
      "image/png": "[encoded data removed]",
      "text/plain": [
       "<Figure size 640x480 with 1 Axes>"
      ]
     },
     "metadata": {},
     "output_type": "display_data"
    }
   ],
   "source": [
    "sns.barplot(x=\"total\", y=\"tz\", hue=\"os\", data=count_subset)"
   ]
  },
  {
   "cell_type": "markdown",
   "id": "d2ae7570-8a0a-4f3c-b6b9-6391be060e23",
   "metadata": {},
   "source": [
    "It is a bit difficult to see the relative percentage of Windows users in the smaller groups, so let's normalize the group percentages to sum to 1:"
   ]
  },
  {
   "cell_type": "code",
   "execution_count": 36,
   "id": "4d1f33e0-9748-47c2-8be5-9f2f62bf6bde",
   "metadata": {},
   "outputs": [],
   "source": [
    "def norm_total(group):\n",
    "    group[\"normed_total\"] = group[\"total\"] / group[\"total\"].sum()\n",
    "    return group\n",
    "\n",
    "results = count_subset.groupby(\"tz\").apply(norm_total)"
   ]
  },
  {
   "cell_type": "code",
   "execution_count": 37,
   "id": "17124df2-80b2-4ec1-ad0f-8d002dece687",
   "metadata": {},
   "outputs": [
    {
     "data": {
      "text/plain": [
       "<Axes: xlabel='normed_total', ylabel='tz'>"
      ]
     },
     "execution_count": 37,
     "metadata": {},
     "output_type": "execute_result"
    },
    {
     "data": {
      "image/png": "[encoded data removed]",
      "text/plain": [
       "<Figure size 640x480 with 1 Axes>"
      ]
     },
     "metadata": {},
     "output_type": "display_data"
    }
   ],
   "source": [
    "sns.barplot(x=\"normed_total\", y=\"tz\", hue=\"os\", data=results)"
   ]
  },
  {
   "cell_type": "markdown",
   "id": "fef51e66-a9ec-477f-b9b4-593a5e3fc303",
   "metadata": {},
   "source": [
    "We could have computed the normalized sum more efficiently by using the transform method with groupby:"
   ]
  },
  {
   "cell_type": "code",
   "execution_count": 38,
   "id": "d886e494-e661-4cda-8332-90fcf29d7929",
   "metadata": {},
   "outputs": [],
   "source": [
    "g = count_subset.groupby(\"tz\")\n",
    "\n",
    "result2 = count_subset[\"total\"] / g[\"total\"].transform(\"sum\")"
   ]
  }
 ],
 "metadata": {
  "kernelspec": {
   "display_name": "Python 3 (ipykernel)",
   "language": "python",
   "name": "python3"
  },
  "language_info": {
   "codemirror_mode": {
    "name": "ipython",
    "version": 3
   },
   "file_extension": ".py",
   "mimetype": "text/x-python",
   "name": "python",
   "nbconvert_exporter": "python",
   "pygments_lexer": "ipython3",
   "version": "3.12.1"
  }
 },
 "nbformat": 4,
 "nbformat_minor": 5
}
